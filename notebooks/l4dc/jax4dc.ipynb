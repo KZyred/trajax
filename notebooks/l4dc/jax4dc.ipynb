{
 "cells": [
  {
   "cell_type": "markdown",
   "id": "15abe799",
   "metadata": {},
   "source": [
    "Copyright 2023 Google LLC\n",
    "\n",
    "Licensed under the Apache License, Version 2.0 (the \"License\");\n",
    "you may not use this file except in compliance with the License.\n",
    "You may obtain a copy of the License at\n",
    "\n",
    "    https://www.apache.org/licenses/LICENSE-2.0\n",
    "\n",
    "Unless required by applicable law or agreed to in writing, software\n",
    "distributed under the License is distributed on an \"AS IS\" BASIS,\n",
    "WITHOUT WARRANTIES OR CONDITIONS OF ANY KIND, either express or implied.\n",
    "See the License for the specific language governing permissions and\n",
    "limitations under the License."
   ]
  },
  {
   "cell_type": "markdown",
   "id": "12e802ee",
   "metadata": {},
   "source": [
    "# jax4dc Part I: Trajectory optimization in Jax\n",
    "\n",
    "This notebook accompanies the first part of the jax4dc tutorial presented at [L4DC 2023](https://l4dc.seas.upenn.edu/tutorials/).\n",
    "\n",
    "Authors: Roy Frostig, Sumeet Singh, and Stephen Tu"
   ]
  },
  {
   "cell_type": "code",
   "execution_count": 1,
   "id": "ea060cb3",
   "metadata": {},
   "outputs": [
    {
     "name": "stdout",
     "output_type": "stream",
     "text": [
      "Defaulting to user installation because normal site-packages is not writeable\n",
      "Collecting git+https://github.com/google/trajax (from -r requirements.txt (line 10))\n",
      "  Cloning https://github.com/google/trajax to /tmp/pip-req-build-xb7or96w\n",
      "  Running command git clone --filter=blob:none --quiet https://github.com/google/trajax /tmp/pip-req-build-xb7or96w\n",
      "  Resolved https://github.com/google/trajax to commit c94a637c5a397b3d4100153f25b4b165507b5b20\n",
      "  Preparing metadata (setup.py) ... \u001b[?25ldone\n",
      "\u001b[?25hRequirement already satisfied: jax==0.4.35 in /home/dung10/.local/lib/python3.10/site-packages (from -r requirements.txt (line 1)) (0.4.35)\n",
      "Requirement already satisfied: chex==0.1.87 in /home/dung10/.local/lib/python3.10/site-packages (from -r requirements.txt (line 2)) (0.1.87)\n",
      "Requirement already satisfied: flax==0.10.2 in /home/dung10/.local/lib/python3.10/site-packages (from -r requirements.txt (line 3)) (0.10.2)\n",
      "Requirement already satisfied: numpy in /home/dung10/.local/lib/python3.10/site-packages (from -r requirements.txt (line 4)) (1.26.4)\n",
      "Requirement already satisfied: scipy in /home/dung10/.local/lib/python3.10/site-packages (from -r requirements.txt (line 5)) (1.14.1)\n",
      "Requirement already satisfied: matplotlib in /usr/lib/python3/dist-packages (from -r requirements.txt (line 6)) (3.5.1)\n",
      "Requirement already satisfied: optax in /home/dung10/.local/lib/python3.10/site-packages (from -r requirements.txt (line 7)) (0.1.5)\n",
      "Requirement already satisfied: tqdm in /home/dung10/.local/lib/python3.10/site-packages (from -r requirements.txt (line 8)) (4.67.1)\n",
      "Requirement already satisfied: brax in /home/dung10/.local/lib/python3.10/site-packages (from -r requirements.txt (line 9)) (0.11.0)\n",
      "Requirement already satisfied: jaxlib<=0.4.35,>=0.4.34 in /home/dung10/.local/lib/python3.10/site-packages (from jax==0.4.35->-r requirements.txt (line 1)) (0.4.35)\n",
      "Requirement already satisfied: ml-dtypes>=0.4.0 in /home/dung10/.local/lib/python3.10/site-packages (from jax==0.4.35->-r requirements.txt (line 1)) (0.5.0)\n",
      "Requirement already satisfied: opt-einsum in /home/dung10/.local/lib/python3.10/site-packages (from jax==0.4.35->-r requirements.txt (line 1)) (3.4.0)\n",
      "Requirement already satisfied: absl-py>=0.9.0 in /home/dung10/.local/lib/python3.10/site-packages (from chex==0.1.87->-r requirements.txt (line 2)) (2.1.0)\n",
      "Requirement already satisfied: typing-extensions>=4.2.0 in /home/dung10/.local/lib/python3.10/site-packages (from chex==0.1.87->-r requirements.txt (line 2)) (4.12.2)\n",
      "Requirement already satisfied: toolz>=0.9.0 in /home/dung10/.local/lib/python3.10/site-packages (from chex==0.1.87->-r requirements.txt (line 2)) (1.0.0)\n",
      "Requirement already satisfied: msgpack in /usr/lib/python3/dist-packages (from flax==0.10.2->-r requirements.txt (line 3)) (1.0.3)\n",
      "Requirement already satisfied: orbax-checkpoint in /home/dung10/.local/lib/python3.10/site-packages (from flax==0.10.2->-r requirements.txt (line 3)) (0.5.16)\n",
      "Requirement already satisfied: tensorstore in /home/dung10/.local/lib/python3.10/site-packages (from flax==0.10.2->-r requirements.txt (line 3)) (0.1.69)\n",
      "Requirement already satisfied: rich>=11.1 in /home/dung10/.local/lib/python3.10/site-packages (from flax==0.10.2->-r requirements.txt (line 3)) (13.9.4)\n",
      "Requirement already satisfied: PyYAML>=5.4.1 in /usr/lib/python3/dist-packages (from flax==0.10.2->-r requirements.txt (line 3)) (5.4.1)\n",
      "Requirement already satisfied: dm-env in /home/dung10/.local/lib/python3.10/site-packages (from brax->-r requirements.txt (line 9)) (1.6)\n",
      "Requirement already satisfied: etils in /home/dung10/.local/lib/python3.10/site-packages (from brax->-r requirements.txt (line 9)) (1.10.0)\n",
      "Requirement already satisfied: flask in /home/dung10/.local/lib/python3.10/site-packages (from brax->-r requirements.txt (line 9)) (3.1.0)\n",
      "Requirement already satisfied: flask-cors in /home/dung10/.local/lib/python3.10/site-packages (from brax->-r requirements.txt (line 9)) (5.0.0)\n",
      "Requirement already satisfied: grpcio in /home/dung10/.local/lib/python3.10/site-packages (from brax->-r requirements.txt (line 9)) (1.68.0)\n",
      "Requirement already satisfied: gym in /home/dung10/.local/lib/python3.10/site-packages (from brax->-r requirements.txt (line 9)) (0.26.2)\n",
      "Requirement already satisfied: jaxopt in /home/dung10/.local/lib/python3.10/site-packages (from brax->-r requirements.txt (line 9)) (0.8.3)\n",
      "Requirement already satisfied: jinja2 in /home/dung10/.local/lib/python3.10/site-packages (from brax->-r requirements.txt (line 9)) (3.1.4)\n",
      "Requirement already satisfied: ml-collections in /home/dung10/.local/lib/python3.10/site-packages (from brax->-r requirements.txt (line 9)) (1.0.0)\n",
      "Requirement already satisfied: mujoco in /home/dung10/.local/lib/python3.10/site-packages (from brax->-r requirements.txt (line 9)) (3.2.5)\n",
      "Requirement already satisfied: mujoco-mjx in /home/dung10/.local/lib/python3.10/site-packages (from brax->-r requirements.txt (line 9)) (3.2.5)\n",
      "Requirement already satisfied: Pillow in /usr/lib/python3/dist-packages (from brax->-r requirements.txt (line 9)) (9.0.1)\n",
      "Requirement already satisfied: pytinyrenderer in /home/dung10/.local/lib/python3.10/site-packages (from brax->-r requirements.txt (line 9)) (0.0.14)\n",
      "Requirement already satisfied: tensorboardX in /home/dung10/.local/lib/python3.10/site-packages (from brax->-r requirements.txt (line 9)) (2.6.2.2)\n",
      "Requirement already satisfied: trimesh in /home/dung10/.local/lib/python3.10/site-packages (from brax->-r requirements.txt (line 9)) (4.5.2)\n",
      "Requirement already satisfied: six in /usr/lib/python3/dist-packages (from ml-collections->brax->-r requirements.txt (line 9)) (1.16.0)\n",
      "Requirement already satisfied: markdown-it-py>=2.2.0 in /home/dung10/.local/lib/python3.10/site-packages (from rich>=11.1->flax==0.10.2->-r requirements.txt (line 3)) (3.0.0)\n",
      "Requirement already satisfied: pygments<3.0.0,>=2.13.0 in /home/dung10/.local/lib/python3.10/site-packages (from rich>=11.1->flax==0.10.2->-r requirements.txt (line 3)) (2.18.0)\n",
      "Requirement already satisfied: dm-tree in /home/dung10/.local/lib/python3.10/site-packages (from dm-env->brax->-r requirements.txt (line 9)) (0.1.8)\n",
      "Requirement already satisfied: Werkzeug>=3.1 in /home/dung10/.local/lib/python3.10/site-packages (from flask->brax->-r requirements.txt (line 9)) (3.1.3)\n",
      "Requirement already satisfied: itsdangerous>=2.2 in /home/dung10/.local/lib/python3.10/site-packages (from flask->brax->-r requirements.txt (line 9)) (2.2.0)\n",
      "Requirement already satisfied: click>=8.1.3 in /home/dung10/.local/lib/python3.10/site-packages (from flask->brax->-r requirements.txt (line 9)) (8.1.7)\n",
      "Requirement already satisfied: blinker>=1.9 in /home/dung10/.local/lib/python3.10/site-packages (from flask->brax->-r requirements.txt (line 9)) (1.9.0)\n",
      "Requirement already satisfied: MarkupSafe>=2.0 in /home/dung10/.local/lib/python3.10/site-packages (from jinja2->brax->-r requirements.txt (line 9)) (3.0.2)\n",
      "Requirement already satisfied: cloudpickle>=1.2.0 in /home/dung10/.local/lib/python3.10/site-packages (from gym->brax->-r requirements.txt (line 9)) (3.1.0)\n",
      "Requirement already satisfied: gym_notices>=0.0.4 in /home/dung10/.local/lib/python3.10/site-packages (from gym->brax->-r requirements.txt (line 9)) (0.0.8)\n",
      "Requirement already satisfied: glfw in /home/dung10/.local/lib/python3.10/site-packages (from mujoco->brax->-r requirements.txt (line 9)) (2.8.0)\n",
      "Requirement already satisfied: pyopengl in /home/dung10/.local/lib/python3.10/site-packages (from mujoco->brax->-r requirements.txt (line 9)) (3.1.7)\n",
      "Requirement already satisfied: nest_asyncio in /home/dung10/.local/lib/python3.10/site-packages (from orbax-checkpoint->flax==0.10.2->-r requirements.txt (line 3)) (1.6.0)\n",
      "Requirement already satisfied: protobuf in /home/dung10/.local/lib/python3.10/site-packages (from orbax-checkpoint->flax==0.10.2->-r requirements.txt (line 3)) (5.28.3)\n",
      "Requirement already satisfied: packaging in /usr/lib/python3/dist-packages (from tensorboardX->brax->-r requirements.txt (line 9)) (21.3)\n",
      "Requirement already satisfied: mdurl~=0.1 in /home/dung10/.local/lib/python3.10/site-packages (from markdown-it-py>=2.2.0->rich>=11.1->flax==0.10.2->-r requirements.txt (line 3)) (0.1.2)\n",
      "Requirement already satisfied: fsspec in /home/dung10/.local/lib/python3.10/site-packages (from etils[epath,epy]->orbax-checkpoint->flax==0.10.2->-r requirements.txt (line 3)) (2024.10.0)\n",
      "Requirement already satisfied: importlib_resources in /home/dung10/.local/lib/python3.10/site-packages (from etils[epath,epy]->orbax-checkpoint->flax==0.10.2->-r requirements.txt (line 3)) (6.4.5)\n",
      "Requirement already satisfied: zipp in /usr/lib/python3/dist-packages (from etils[epath,epy]->orbax-checkpoint->flax==0.10.2->-r requirements.txt (line 3)) (1.0.0)\n"
     ]
    }
   ],
   "source": [
    "# install necessary dependencies\n",
    "!pip install -r requirements.txt\n",
    "# !pip install jax"
   ]
  },
  {
   "cell_type": "code",
   "execution_count": 2,
   "id": "b1dc42e8",
   "metadata": {},
   "outputs": [
    {
     "name": "stdout",
     "output_type": "stream",
     "text": [
      "Defaulting to user installation because normal site-packages is not writeable\n",
      "Requirement already satisfied: numpy==1.26.4 in /home/dung10/.local/lib/python3.10/site-packages (1.26.4)\n"
     ]
    }
   ],
   "source": [
    "!pip install numpy==1.26.4"
   ]
  },
  {
   "cell_type": "code",
   "execution_count": 3,
   "id": "31ef66c7",
   "metadata": {},
   "outputs": [
    {
     "ename": "ModuleNotFoundError",
     "evalue": "No module named 'jax.config'",
     "output_type": "error",
     "traceback": [
      "\u001b[0;31m---------------------------------------------------------------------------\u001b[0m",
      "\u001b[0;31mModuleNotFoundError\u001b[0m                       Traceback (most recent call last)",
      "Cell \u001b[0;32mIn[3], line 3\u001b[0m\n\u001b[1;32m      1\u001b[0m \u001b[38;5;28;01mimport\u001b[39;00m \u001b[38;5;21;01mjax\u001b[39;00m\n\u001b[0;32m----> 3\u001b[0m \u001b[38;5;28;01mfrom\u001b[39;00m \u001b[38;5;21;01mjax\u001b[39;00m\u001b[38;5;21;01m.\u001b[39;00m\u001b[38;5;21;01mconfig\u001b[39;00m \u001b[38;5;28;01mimport\u001b[39;00m config\n",
      "\u001b[0;31mModuleNotFoundError\u001b[0m: No module named 'jax.config'"
     ]
    }
   ],
   "source": [
    "import jax\n",
    "\n",
    "from jax.config import config"
   ]
  },
  {
   "cell_type": "code",
   "execution_count": 4,
   "id": "b59ea58c",
   "metadata": {},
   "outputs": [],
   "source": [
    "import jax\n",
    "\n",
    "# from jax.config import config\n",
    "# config.update('jax_enable_x64', True)\n",
    "\n",
    "from dataclasses import dataclass\n",
    "from functools import partial\n",
    "from typing import Any, Callable, Sequence\n",
    "\n",
    "import chex\n",
    "from flax import struct\n",
    "import jax.numpy as jnp\n",
    "import jax.scipy as jsp\n",
    "import matplotlib.pylab as plt\n",
    "import numpy as np\n",
    "import pprint\n",
    "import optax\n",
    "import scipy as sp\n",
    "import tqdm\n",
    "import time\n",
    "\n",
    "from brax import envs, State\n",
    "from brax.envs import Env\n",
    "from brax.io import html\n",
    "from optax import OptState, TransformUpdateFn\n",
    "from trajax.integrators import euler\n",
    "from trajax.optimizers import ilqr\n",
    "\n",
    "from IPython.display import HTML, IFrame\n",
    "\n",
    "Array = jax.Array\n",
    "PRNGKey = chex.PRNGKey\n",
    "PyTree = Any\n",
    "Scalar = chex.Scalar"
   ]
  },
  {
   "cell_type": "markdown",
   "id": "e9c547a7",
   "metadata": {},
   "source": [
    "## Building blocks\n",
    "\n",
    "We first build several primitives for optimal control:\n",
    "\n",
    "- `rollout`: given inputs $U$ and initial state $x_0$, rollout a trajectory $X$.\n",
    "- `trajectory_cost`: given a trajectory $X$ generated by inputs $U$, compute the cost. \n",
    "- `objective`: given inputs $U$ and initial state $x_0$, compute the cost of the resulting trajectory.\n",
    "\n",
    "Unlike the tutorial slides, we will work with a more general representation of the state as an abstract [PyTree](https://jax.readthedocs.io/en/latest/pytrees.html). The input remains a concrete `Array`."
   ]
  },
  {
   "cell_type": "code",
   "execution_count": 5,
   "id": "0b6a37b1",
   "metadata": {},
   "outputs": [],
   "source": [
    "# f(t, x, u)\n",
    "Dynamics = Callable[[Scalar, PyTree, Array], PyTree]\n",
    "\n",
    "# c(t, x, u)\n",
    "StageCost = Callable[[Scalar, PyTree, Array], float]\n",
    "# c(t, x)\n",
    "TerminalCost = Callable[[Scalar, PyTree], float]\n",
    "\n",
    "\n",
    "@dataclass\n",
    "class Cost:\n",
    "    stage_cost: StageCost\n",
    "    terminal_cost: TerminalCost\n",
    "\n",
    "\n",
    "def rollout(dynamics: Dynamics, U: Array, x0: PyTree) -> PyTree:\n",
    "    \"\"\"Unrolls `X[t+1] = dynamics(t, X[t], U[t])`, where `X[0] = x0`.\"\"\"\n",
    "\n",
    "    def step(x, args):\n",
    "        t, u = args\n",
    "        x = dynamics(t, x, u)\n",
    "        return x, x  # Return (carry, emitted state)\n",
    "\n",
    "    _, X = jax.lax.scan(step, x0, (jnp.arange(len(U)), U))\n",
    "    return X\n",
    "\n",
    "\n",
    "def trajectory_cost(cost: Cost, U: Array, x0: PyTree, X: PyTree) -> float:\n",
    "    T = len(U)\n",
    "    time_steps = jnp.arange(T)\n",
    "    X = jax.tree_util.tree_map(\n",
    "        lambda a, b: jnp.concatenate((a[None, :], b), axis=0), x0, X)\n",
    "    stage_cost = jnp.sum(jax.vmap(cost.stage_cost)(\n",
    "        time_steps, jax.tree_util.tree_map(lambda leaf: leaf[:-1], X), U))\n",
    "    terminal_cost = cost.terminal_cost(\n",
    "        T, jax.tree_util.tree_map(lambda leaf: leaf[-1], X))\n",
    "    return stage_cost + terminal_cost\n",
    "\n",
    "\n",
    "def objective(\n",
    "    dynamics: Dynamics, cost: Cost, U: Array, x0: PyTree\n",
    ") -> float:\n",
    "    X = rollout(dynamics, U, x0)\n",
    "    return trajectory_cost(cost, U, x0, X)\n",
    "\n",
    "\n",
    "def pytree_block_until_ready(tree: PyTree) -> PyTree:\n",
    "    return jax.tree_util.tree_map(lambda leaf: leaf.block_until_ready(), tree)\n",
    "\n",
    "\n",
    "def print_jit_and_eval_times(f, *, args=(), kwargs={}, name='', num_steps=5):\n",
    "    start_time = time.time()\n",
    "    pytree_block_until_ready(f(*args, **kwargs))\n",
    "    jit_plus_eval_time = time.time() - start_time\n",
    "\n",
    "    start_time = time.time()\n",
    "    for _ in range(num_steps):\n",
    "        pytree_block_until_ready(f(*args, **kwargs))\n",
    "    eval_time = (time.time() - start_time) / num_steps\n",
    "    print(\n",
    "        f\"{name}, jit_time={jit_plus_eval_time - eval_time:.3f} (s), eval_time={eval_time:.3f} (s)\")\n"
   ]
  },
  {
   "cell_type": "markdown",
   "id": "ee2e23ba",
   "metadata": {},
   "source": [
    "## Brax setup\n",
    "\n",
    "We will use [`brax`](https://github.com/google/brax), a Jax-based differentiable physics simulator, to provide concrete implementations of dynamics functions.\n",
    "\n",
    "We first write some helper functions to make `brax` compatible with our abstractions. One issue that will arise, is that `brax.State` objects are PyTrees which are not minimal: they contain derived information (e.g. transformations) from the generalized coordinates. Since later we will want to linearize the dynamics and quadratize the costs, we want to do this in generalized coordinates, so we define some conversion functions to go between the two representations."
   ]
  },
  {
   "cell_type": "code",
   "execution_count": 6,
   "id": "b207b6ec",
   "metadata": {},
   "outputs": [],
   "source": [
    "def state_to_gen_coords(state: State) -> Array:\n",
    "    return jnp.concatenate((state.q, state.qd))\n",
    "\n",
    "\n",
    "def gen_coords_to_state(env: Env, coords: Array) -> State:\n",
    "    q, qd = jnp.split(coords, [env.sys.q_size()])\n",
    "    return env.pipeline_init(q, qd)\n",
    "\n",
    "\n",
    "def brax_dynamics(\n",
    "        env: Env, t: Scalar, x: State, u: Array) -> Array:\n",
    "    return env.pipeline_step(x, u)\n"
   ]
  },
  {
   "cell_type": "markdown",
   "id": "c0625f0c",
   "metadata": {},
   "source": [
    "## Reacher environment cost/dynamics\n",
    "\n",
    "For the majority of this notebook, we will focus on the reacher environment. \n",
    "\n",
    "Here, we define the dynamics and cost functions associated with reacher."
   ]
  },
  {
   "cell_type": "code",
   "execution_count": 9,
   "id": "b7d625a5",
   "metadata": {},
   "outputs": [],
   "source": [
    "reacher_env = envs.get_environment(\n",
    "    env_name='reacher',    # 'reacher', 'ant', ...\n",
    "    backend='positional',  # 'generalized', 'positional', ...\n",
    ")\n",
    "\n",
    "dynamics = partial(brax_dynamics, reacher_env)\n",
    "trajectory = jax.jit(partial(rollout, dynamics))\n",
    "coords_to_state = jax.jit(partial(gen_coords_to_state, reacher_env))"
   ]
  },
  {
   "cell_type": "code",
   "execution_count": 10,
   "id": "9334d89f",
   "metadata": {},
   "outputs": [],
   "source": [
    "@struct.dataclass\n",
    "class ReacherCostParams:\n",
    "    # stage cost weights\n",
    "    stage_pos: float = 10.0\n",
    "    stage_vel: float = 0.001\n",
    "    stage_act: float = 0.01\n",
    "\n",
    "    # terminal cost weights\n",
    "    term_pos: float = 100.0\n",
    "    term_vel: float = 10.0\n"
   ]
  },
  {
   "cell_type": "code",
   "execution_count": 11,
   "id": "84a96e81",
   "metadata": {},
   "outputs": [],
   "source": [
    "def reacher_stage_cost(\n",
    "    t: Scalar, x: State, u: Array, *, params: ReacherCostParams\n",
    ") -> float:\n",
    "    obs = reacher_env._get_obs(x)  # get access to goal\n",
    "    state_cost = 0.0\n",
    "\n",
    "    # distance to goal\n",
    "    state_cost += params.stage_pos * jnp.sum(obs[8:10] ** 2)\n",
    "\n",
    "    # angular velocity of arm\n",
    "    state_cost += params.stage_vel * jnp.sum(obs[6:8] ** 2)\n",
    "\n",
    "    # actuation penalty\n",
    "    act_cost = params.stage_act * jnp.sum(u ** 2)\n",
    "    return state_cost + act_cost\n",
    "\n",
    "\n",
    "def reacher_terminal_cost(\n",
    "    t: Scalar, x: State, *, params: ReacherCostParams\n",
    ") -> float:\n",
    "    obs = reacher_env._get_obs(x)\n",
    "    state_cost = 0.0\n",
    "\n",
    "    # distance to goal\n",
    "    state_cost += params.term_pos * jnp.sum(obs[8:10] ** 2)\n",
    "\n",
    "    # angular velocity of arm\n",
    "    state_cost += params.term_vel * jnp.sum(obs[6:8] ** 2)\n",
    "    return state_cost\n"
   ]
  },
  {
   "cell_type": "code",
   "execution_count": 12,
   "id": "738c0852",
   "metadata": {},
   "outputs": [],
   "source": [
    "@jax.jit\n",
    "def value_and_grad_obj(\n",
    "    U: Array, x0: PyTree, params: ReacherCostParams\n",
    ") -> tuple[float, Array]:\n",
    "    cost = Cost(\n",
    "        stage_cost=partial(reacher_stage_cost, params=params),\n",
    "        terminal_cost=partial(reacher_terminal_cost, params=params))\n",
    "    obj = partial(objective, dynamics, cost)\n",
    "    return jax.value_and_grad(obj)(U, x0)\n"
   ]
  },
  {
   "cell_type": "markdown",
   "id": "f3663ad6",
   "metadata": {},
   "source": [
    "## Gradient methods\n",
    "\n",
    "We are now ready to write our first trajectory optimizer based on first-order methods. We will use [`optax`](https://github.com/deepmind/optax) to abstract away the details of specific optimization algorithms such as gradient descent, Adam, AdaGrad, etc. "
   ]
  },
  {
   "cell_type": "code",
   "execution_count": 13,
   "id": "965a401e",
   "metadata": {},
   "outputs": [],
   "source": [
    "def gradient_step(\n",
    "    update: TransformUpdateFn,\n",
    "    U: Array,\n",
    "    opt_state: OptState,\n",
    "    x0: Array,\n",
    "    params: ReacherCostParams\n",
    ") -> tuple[float, Array, Array, OptState]:\n",
    "    v, g = value_and_grad_obj(U, x0, params)\n",
    "    U, opt_state = optax_step(update, U, opt_state, g)\n",
    "    return v, g, U, opt_state\n",
    "\n",
    "\n",
    "def optax_step(\n",
    "    update: TransformUpdateFn,\n",
    "    params: Array,\n",
    "    opt_state: OptState,\n",
    "    gradient: Array,\n",
    "):\n",
    "    updates, opt_state = update(gradient, opt_state, params)\n",
    "    # params += updates\n",
    "    params = optax.apply_updates(params, updates)\n",
    "    return params, opt_state\n"
   ]
  },
  {
   "cell_type": "code",
   "execution_count": 14,
   "id": "55e4bac0",
   "metadata": {},
   "outputs": [],
   "source": [
    "opt = optax.adam(learning_rate=5e-2)  # or optax.sgd, ...\n",
    "step = jax.jit(partial(gradient_step, opt.update))"
   ]
  },
  {
   "cell_type": "markdown",
   "id": "ba3e6533",
   "metadata": {},
   "source": [
    "We now define the task horizon, the initial state $x_0$, the initial guess for the sequence of inputs $U$,\n",
    "and the parameters we will use for the reacher cost function."
   ]
  },
  {
   "cell_type": "code",
   "execution_count": 15,
   "id": "30773fc2",
   "metadata": {},
   "outputs": [],
   "source": [
    "T = 40\n",
    "x0 = reacher_env.pipeline_init(\n",
    "    jnp.array([0, 0, -0.05, -0.20]),\n",
    "    \n",
    "    # other initial conditions to try:\n",
    "    # jnp.array([0, 0, -0.05, -0.15]),\n",
    "    # jnp.array([0, 0, -0.1, -0.15]),\n",
    "    # reacher_env.sys.init_q,\n",
    "    \n",
    "    jnp.zeros((4,))\n",
    ")\n",
    "U = jax.random.uniform(\n",
    "    jax.random.PRNGKey(0),\n",
    "    minval=-0.1,\n",
    "    maxval=0.1,\n",
    "    shape=(T, reacher_env.action_size),\n",
    ")\n",
    "params = ReacherCostParams(term_pos=1000.0, term_vel=500.0)\n"
   ]
  },
  {
   "cell_type": "markdown",
   "id": "5fd9a9a4",
   "metadata": {},
   "source": [
    "One current downside of using `brax` is that compile times are fairly long. On the other hand, evaluation is very fast. We illustrate this below."
   ]
  },
  {
   "cell_type": "code",
   "execution_count": 16,
   "id": "91a9a96e",
   "metadata": {},
   "outputs": [
    {
     "name": "stdout",
     "output_type": "stream",
     "text": [
      "step, jit_time=65.572 (s), eval_time=0.061 (s)\n"
     ]
    }
   ],
   "source": [
    "print_jit_and_eval_times(\n",
    "    step, \n",
    "    args=(U, opt.init(U), x0, params),\n",
    "    name='step')"
   ]
  },
  {
   "cell_type": "markdown",
   "id": "e70765b4",
   "metadata": {},
   "source": [
    "Now that our main `step` function is compiled, we can run our optimization algorithm. Here, we run 500 steps of Adam, recording both the objective values and $\\ell_\\infty$ gradient norms throughout the optimization."
   ]
  },
  {
   "cell_type": "code",
   "execution_count": 17,
   "id": "98470413",
   "metadata": {},
   "outputs": [
    {
     "name": "stderr",
     "output_type": "stream",
     "text": [
      "100%|██████████| 500/500 [00:30<00:00, 16.34it/s]\n"
     ]
    }
   ],
   "source": [
    "opt_state = opt.init(U)\n",
    "values = []\n",
    "grad_norms = []\n",
    "for iteration in tqdm.tqdm(range(500)):\n",
    "    v, g, U, opt_state = step(U, opt_state, x0, params)\n",
    "    values.append(v)\n",
    "    grad_norms.append(np.linalg.norm(g, ord=np.inf))"
   ]
  },
  {
   "cell_type": "code",
   "execution_count": 18,
   "id": "e946590d",
   "metadata": {},
   "outputs": [
    {
     "data": {
      "image/png": "[encoded data removed]",
      "text/plain": [
       "<Figure size 600x400 with 2 Axes>"
      ]
     },
     "metadata": {},
     "output_type": "display_data"
    }
   ],
   "source": [
    "plt.figure(figsize=(6, 4))\n",
    "\n",
    "plt.subplot(1, 2, 1)\n",
    "plt.semilogy(values)\n",
    "plt.xlabel('iteration')\n",
    "plt.ylabel('obj')\n",
    "plt.title(f'final obj={values[-1]:.3f}')\n",
    "\n",
    "plt.subplot(1, 2, 2)\n",
    "plt.semilogy(grad_norms)\n",
    "plt.xlabel('iteration')\n",
    "plt.ylabel('norm(grad)')\n",
    "plt.title(f'final norm(grad)={grad_norms[-1]:.3f}')\n",
    "\n",
    "plt.suptitle('reacher traj opt (Adam)')\n",
    "\n",
    "plt.tight_layout()"
   ]
  },
  {
   "cell_type": "markdown",
   "id": "fe088685",
   "metadata": {},
   "source": [
    "Let us now visualize the resulting trajectory!"
   ]
  },
  {
   "cell_type": "code",
   "execution_count": 19,
   "id": "1f7a9f85",
   "metadata": {},
   "outputs": [],
   "source": [
    "X = trajectory(U, x0)\n",
    "X = jax.tree_util.tree_map(\n",
    "    lambda a, b: jnp.concatenate((a[None, :], b), axis=0), x0, X)"
   ]
  },
  {
   "cell_type": "code",
   "execution_count": 21,
   "id": "a47a4a6c",
   "metadata": {},
   "outputs": [
    {
     "ename": "TypeError",
     "evalue": "System.__init__() got an unexpected keyword argument 'dt'",
     "output_type": "error",
     "traceback": [
      "\u001b[0;31m---------------------------------------------------------------------------\u001b[0m",
      "\u001b[0;31mTypeError\u001b[0m                                 Traceback (most recent call last)",
      "Cell \u001b[0;32mIn[21], line 6\u001b[0m\n\u001b[1;32m      1\u001b[0m \u001b[38;5;66;03m# Note: writing the result of `html.render` is only necessary in a jupyter notebook.\u001b[39;00m\n\u001b[1;32m      2\u001b[0m \u001b[38;5;66;03m# If running as a colab notebook, one can directly write `HTML(html.render(...))`. \u001b[39;00m\n\u001b[1;32m      3\u001b[0m \u001b[38;5;66;03m# This is a known issue: https://github.com/google/brax/issues/114\u001b[39;00m\n\u001b[1;32m      4\u001b[0m \u001b[38;5;28;01mwith\u001b[39;00m \u001b[38;5;28mopen\u001b[39m(\u001b[38;5;124m'\u001b[39m\u001b[38;5;124mtemp_optax.html\u001b[39m\u001b[38;5;124m'\u001b[39m, \u001b[38;5;124m'\u001b[39m\u001b[38;5;124mw\u001b[39m\u001b[38;5;124m'\u001b[39m) \u001b[38;5;28;01mas\u001b[39;00m fp:\n\u001b[1;32m      5\u001b[0m     \u001b[38;5;66;03m# we replace the `dt` value to 0.1 so that the visualization runs at a reasonable speed.\u001b[39;00m\n\u001b[0;32m----> 6\u001b[0m     fp\u001b[38;5;241m.\u001b[39mwrite(html\u001b[38;5;241m.\u001b[39mrender(\u001b[43mreacher_env\u001b[49m\u001b[38;5;241;43m.\u001b[39;49m\u001b[43msys\u001b[49m\u001b[38;5;241;43m.\u001b[39;49m\u001b[43mreplace\u001b[49m\u001b[43m(\u001b[49m\u001b[43mdt\u001b[49m\u001b[38;5;241;43m=\u001b[39;49m\u001b[38;5;241;43m0.1\u001b[39;49m\u001b[43m)\u001b[49m,\n\u001b[1;32m      7\u001b[0m                          [coords_to_state(x) \u001b[38;5;28;01mfor\u001b[39;00m x \u001b[38;5;129;01min\u001b[39;00m jax\u001b[38;5;241m.\u001b[39mvmap(state_to_gen_coords)(X)]))\n\u001b[1;32m      8\u001b[0m IFrame(\u001b[38;5;124m'\u001b[39m\u001b[38;5;124mtemp_optax.html\u001b[39m\u001b[38;5;124m'\u001b[39m, width\u001b[38;5;241m=\u001b[39m\u001b[38;5;241m900\u001b[39m, height\u001b[38;5;241m=\u001b[39m\u001b[38;5;241m500\u001b[39m)\n",
      "File \u001b[0;32m~/.local/lib/python3.10/site-packages/mujoco/mjx/_src/dataclasses.py:61\u001b[0m, in \u001b[0;36mdataclass.<locals>.replace\u001b[0;34m(self, **updates)\u001b[0m\n\u001b[1;32m     59\u001b[0m \u001b[38;5;28;01mdef\u001b[39;00m \u001b[38;5;21mreplace\u001b[39m(\u001b[38;5;28mself\u001b[39m, \u001b[38;5;241m*\u001b[39m\u001b[38;5;241m*\u001b[39mupdates):\n\u001b[1;32m     60\u001b[0m \u001b[38;5;250m  \u001b[39m\u001b[38;5;124;03m\"\"\"\"Returns a new object replacing the specified fields with new values.\"\"\"\u001b[39;00m\n\u001b[0;32m---> 61\u001b[0m   \u001b[38;5;28;01mreturn\u001b[39;00m \u001b[43mdataclasses\u001b[49m\u001b[38;5;241;43m.\u001b[39;49m\u001b[43mreplace\u001b[49m\u001b[43m(\u001b[49m\u001b[38;5;28;43mself\u001b[39;49m\u001b[43m,\u001b[49m\u001b[43m \u001b[49m\u001b[38;5;241;43m*\u001b[39;49m\u001b[38;5;241;43m*\u001b[39;49m\u001b[43mupdates\u001b[49m\u001b[43m)\u001b[49m\n",
      "File \u001b[0;32m/usr/lib/python3.10/dataclasses.py:1453\u001b[0m, in \u001b[0;36mreplace\u001b[0;34m(obj, **changes)\u001b[0m\n\u001b[1;32m   1446\u001b[0m         changes[f\u001b[38;5;241m.\u001b[39mname] \u001b[38;5;241m=\u001b[39m \u001b[38;5;28mgetattr\u001b[39m(obj, f\u001b[38;5;241m.\u001b[39mname)\n\u001b[1;32m   1448\u001b[0m \u001b[38;5;66;03m# Create the new object, which calls __init__() and\u001b[39;00m\n\u001b[1;32m   1449\u001b[0m \u001b[38;5;66;03m# __post_init__() (if defined), using all of the init fields we've\u001b[39;00m\n\u001b[1;32m   1450\u001b[0m \u001b[38;5;66;03m# added and/or left in 'changes'.  If there are values supplied in\u001b[39;00m\n\u001b[1;32m   1451\u001b[0m \u001b[38;5;66;03m# changes that aren't fields, this will correctly raise a\u001b[39;00m\n\u001b[1;32m   1452\u001b[0m \u001b[38;5;66;03m# TypeError.\u001b[39;00m\n\u001b[0;32m-> 1453\u001b[0m \u001b[38;5;28;01mreturn\u001b[39;00m \u001b[43mobj\u001b[49m\u001b[38;5;241;43m.\u001b[39;49m\u001b[38;5;18;43m__class__\u001b[39;49m\u001b[43m(\u001b[49m\u001b[38;5;241;43m*\u001b[39;49m\u001b[38;5;241;43m*\u001b[39;49m\u001b[43mchanges\u001b[49m\u001b[43m)\u001b[49m\n",
      "\u001b[0;31mTypeError\u001b[0m: System.__init__() got an unexpected keyword argument 'dt'"
     ]
    }
   ],
   "source": [
    "# Note: writing the result of `html.render` is only necessary in a jupyter notebook.\n",
    "# If running as a colab notebook, one can directly write `HTML(html.render(...))`. \n",
    "# This is a known issue: https://github.com/google/brax/issues/114\n",
    "with open('temp_optax.html', 'w') as fp:\n",
    "    # we replace the `dt` value to 0.1 so that the visualization runs at a reasonable speed.\n",
    "    fp.write(html.render(reacher_env.sys.replace(dt=0.1),\n",
    "                         [coords_to_state(x) for x in jax.vmap(state_to_gen_coords)(X)]))\n",
    "IFrame('temp_optax.html', width=900, height=500)"
   ]
  },
  {
   "cell_type": "markdown",
   "id": "0b7da47e",
   "metadata": {},
   "source": [
    "## Scipy L-BFGS\n",
    "\n",
    "Next, we turn to a more classic optimization algorithm, [limited memory BFGS](https://en.wikipedia.org/wiki/Limited-memory_BFGS) (L-BFGS).\n",
    "\n",
    "We rely on scipy's `optimize.fmin_l_bfgs_b` implementation, which takes as input user defined functions that represent both function and gradient evaluation. This is the same as our `value_and_grad_obj` function, with a few caveats: scipy's implementation requires both (a) vector parameters and (b) float64 precision. Hence, we need a small wrapper to make our `value_and_grad_obj` function compatible."
   ]
  },
  {
   "cell_type": "code",
   "execution_count": null,
   "id": "2768b2d9",
   "metadata": {},
   "outputs": [],
   "source": [
    "def scipy_obj(flat_U: np.ndarray, *,\n",
    "              x0: State, params: ReacherCostParams) -> tuple[float, np.ndarray]:\n",
    "    \"\"\"Interface between L-BFGS and Jax.\"\"\"\n",
    "    U = flat_U.reshape((-1, reacher_env.action_size))  # unflatten\n",
    "    v, g = value_and_grad_obj(U, x0, params)\n",
    "    return (\n",
    "        float(v),\n",
    "        np.array(jax.device_get(g), dtype=np.float64).flatten())\n"
   ]
  },
  {
   "cell_type": "code",
   "execution_count": null,
   "id": "99cc4f73",
   "metadata": {},
   "outputs": [
    {
     "name": "stdout",
     "output_type": "stream",
     "text": [
      "value_and_grad_obj, jit_time=136.438 (s), eval_time=0.007 (s)\n"
     ]
    }
   ],
   "source": [
    "print_jit_and_eval_times(\n",
    "    value_and_grad_obj,\n",
    "    args=(U, x0, params),\n",
    "    name='value_and_grad_obj')"
   ]
  },
  {
   "cell_type": "markdown",
   "id": "5857a831",
   "metadata": {},
   "source": [
    "We can now call `scipy.optimize.fmin_l_bfgs_b` to solve our trajectory optimization problem."
   ]
  },
  {
   "cell_type": "code",
   "execution_count": null,
   "id": "4d2561ea",
   "metadata": {},
   "outputs": [],
   "source": [
    "U = jax.random.uniform(\n",
    "    jax.random.PRNGKey(0),\n",
    "    minval=-0.1,\n",
    "    maxval=0.1,\n",
    "    shape=(T, reacher_env.action_size),\n",
    ")\n",
    "\n",
    "flat_U, f_star, info = sp.optimize.fmin_l_bfgs_b(\n",
    "    partial(scipy_obj, x0=x0, params=params), \n",
    "    jax.device_get(U.flatten()))\n",
    "U = flat_U.reshape(U.shape)"
   ]
  },
  {
   "cell_type": "code",
   "execution_count": null,
   "id": "fa7a281b",
   "metadata": {},
   "outputs": [
    {
     "name": "stdout",
     "output_type": "stream",
     "text": [
      "norm(grad) 0.31174738382005973\n",
      "num_iters 207\n",
      "obj 17.07387281552766\n"
     ]
    }
   ],
   "source": [
    "print(\"norm(grad)\", np.linalg.norm(info['grad'], ord=np.inf))\n",
    "print(\"num_iters\", info['nit'])\n",
    "print(\"obj\", f_star)"
   ]
  },
  {
   "cell_type": "markdown",
   "id": "928511b3",
   "metadata": {},
   "source": [
    "As before, let us now visualize the resulting optimal trajectory."
   ]
  },
  {
   "cell_type": "code",
   "execution_count": null,
   "id": "eaa885b4",
   "metadata": {},
   "outputs": [],
   "source": [
    "X = trajectory(U, x0)\n",
    "X = jax.tree_util.tree_map(lambda a, b: jnp.concatenate((a[None, :], b), axis=0), x0, X)"
   ]
  },
  {
   "cell_type": "code",
   "execution_count": null,
   "id": "a672fdac",
   "metadata": {},
   "outputs": [
    {
     "data": {
      "text/html": [
       "\n",
       "        <iframe\n",
       "            width=\"900\"\n",
       "            height=\"500\"\n",
       "            src=\"temp_lbfgs.html\"\n",
       "            frameborder=\"0\"\n",
       "            allowfullscreen\n",
       "            \n",
       "        ></iframe>\n",
       "        "
      ],
      "text/plain": [
       "<IPython.lib.display.IFrame at 0x7feea88baf50>"
      ]
     },
     "execution_count": 21,
     "metadata": {},
     "output_type": "execute_result"
    }
   ],
   "source": [
    "# Same comment regarding the tempfile+IFrame workaround from visualizing\n",
    "# the result of the optax optimization applies here.\n",
    "with open('temp_lbfgs.html', 'w') as fp:\n",
    "    fp.write(html.render(reacher_env.sys.replace(dt=0.1),\n",
    "                         [coords_to_state(x) for x in jax.vmap(state_to_gen_coords)(X)]))\n",
    "IFrame('temp_lbfgs.html', width=900, height=500)"
   ]
  },
  {
   "cell_type": "markdown",
   "id": "49fba935",
   "metadata": {},
   "source": [
    "## Trajax iLQR\n",
    "\n",
    "We've successfully used both Adam and L-BFGS to solve the reacher trajectory optimization problem. For more challenging problems, first-order methods can be quite inefficient, and incorporating second-order information can dramatically improve the computational complexity of optimization. \n",
    "\n",
    "The iterative Linear Quadratic Regulator (iLQR) algorithm is a classic algorithm for trajectory optimization which incorporates second-order information. It is described in more detail in Part II of our tutorial. For now, we will use our [`trajax`](https://github.com/google/trajax) library, which implements iLQR using Jax, so that it is compatible with Jax's transforms and supports automatic differentiation.  \n",
    "\n",
    "We first start with `ilqr_solve`, a thin wrapper around `trajax.optimizers.ilqr` which handles the slight API mismatch between our `Cost` and `Dynamics` type signatures, and what `trajax` expects as inputs. The biggest issue this wrapper resolves is forcing `trajax` to deal with only the generalized coordinates, instead of the `brax.State` PyTree. This is specifically for efficiency reasons, so we do not have to automatically differentiate through the derived information when we linearize the dynamics and quadratize the cost. "
   ]
  },
  {
   "cell_type": "code",
   "execution_count": null,
   "id": "80666428",
   "metadata": {},
   "outputs": [],
   "source": [
    "@jax.jit\n",
    "def ilqr_solve(x0: Array, U: Array, params: ReacherCostParams) -> ...:\n",
    "\n",
    "    cost = Cost(\n",
    "        stage_cost=partial(reacher_stage_cost, params=params),\n",
    "        terminal_cost=partial(reacher_terminal_cost, params=params))\n",
    "\n",
    "    def trajax_cost(\n",
    "        x: Array, u: Array, t: Scalar\n",
    "    ) -> float:\n",
    "        x = coords_to_state(x)\n",
    "        return jnp.where(\n",
    "            t == T,\n",
    "            cost.terminal_cost(t, x),\n",
    "            cost.stage_cost(t, x, u))\n",
    "\n",
    "    def trajax_dynamics(\n",
    "        x: Array, u: Array, t: Scalar\n",
    "    ) -> Array:\n",
    "        # (x, u, t) -> (t, x, u)\n",
    "        x = coords_to_state(x)\n",
    "        return state_to_gen_coords(dynamics(t, x, u))\n",
    "\n",
    "    ilqr_kwargs = dict(\n",
    "        make_psd=True, psd_delta=1e-4, alpha_0=0.5\n",
    "    )\n",
    "\n",
    "    return ilqr(trajax_cost, trajax_dynamics, x0, U, **ilqr_kwargs)\n"
   ]
  },
  {
   "cell_type": "markdown",
   "id": "b81747f9",
   "metadata": {},
   "source": [
    "The slow compile times previously encountered are further exacerbated when combining `brax` with `trajax`, as shown below. Nevertheless, the compiled code is very fast."
   ]
  },
  {
   "cell_type": "code",
   "execution_count": null,
   "id": "a063653a",
   "metadata": {},
   "outputs": [
    {
     "name": "stderr",
     "output_type": "stream",
     "text": [
      "2023-06-13 14:23:10.439940: E external/xla/xla/service/slow_operation_alarm.cc:65] \n",
      "********************************\n",
      "[Compiling module jit_ilqr_solve] Very slow compile? If you want to file a bug, run with envvar XLA_FLAGS=--xla_dump_to=/tmp/foo and attach the results.\n",
      "********************************\n",
      "2023-06-13 14:28:25.729317: E external/xla/xla/service/slow_operation_alarm.cc:133] The operation took 7m15.294374s\n",
      "\n",
      "********************************\n",
      "[Compiling module jit_ilqr_solve] Very slow compile? If you want to file a bug, run with envvar XLA_FLAGS=--xla_dump_to=/tmp/foo and attach the results.\n",
      "********************************\n"
     ]
    },
    {
     "name": "stdout",
     "output_type": "stream",
     "text": [
      "ilqr_solve, jit_time=668.051 (s), eval_time=0.134 (s)\n"
     ]
    }
   ],
   "source": [
    "print_jit_and_eval_times(\n",
    "    ilqr_solve,\n",
    "    args=(state_to_gen_coords(x0), U, params),\n",
    "    name='ilqr_solve',\n",
    "    num_steps=1)"
   ]
  },
  {
   "cell_type": "code",
   "execution_count": null,
   "id": "515c4a6d",
   "metadata": {},
   "outputs": [],
   "source": [
    "U = jax.random.uniform(\n",
    "    jax.random.PRNGKey(0),\n",
    "    minval=-0.1,\n",
    "    maxval=0.1,\n",
    "    shape=(T, reacher_env.action_size),\n",
    ")\n",
    "X, U, obj, grad, *_ = ilqr_solve(state_to_gen_coords(x0), U, params)"
   ]
  },
  {
   "cell_type": "code",
   "execution_count": null,
   "id": "af979b74",
   "metadata": {},
   "outputs": [
    {
     "name": "stdout",
     "output_type": "stream",
     "text": [
      "norm(grad) 0.5530241525715631\n",
      "obj 17.050646207458453\n"
     ]
    }
   ],
   "source": [
    "print('norm(grad)', np.linalg.norm(grad, ord=np.inf))\n",
    "print('obj', obj)"
   ]
  },
  {
   "cell_type": "markdown",
   "id": "dde73339",
   "metadata": {},
   "source": [
    "As before, let us visualize the optimal trajectory."
   ]
  },
  {
   "cell_type": "code",
   "execution_count": null,
   "id": "a55cd223",
   "metadata": {},
   "outputs": [
    {
     "data": {
      "text/html": [
       "\n",
       "        <iframe\n",
       "            width=\"900\"\n",
       "            height=\"500\"\n",
       "            src=\"temp_trajax.html\"\n",
       "            frameborder=\"0\"\n",
       "            allowfullscreen\n",
       "            \n",
       "        ></iframe>\n",
       "        "
      ],
      "text/plain": [
       "<IPython.lib.display.IFrame at 0x7fee8b12dcc0>"
      ]
     },
     "execution_count": 26,
     "metadata": {},
     "output_type": "execute_result"
    }
   ],
   "source": [
    "# Again, the tempfile+IFrame workaround is unnecessary if we run \n",
    "# this notebook as a colab notebook.\n",
    "with open('temp_trajax.html', 'w') as fp:\n",
    "    fp.write(html.render(reacher_env.sys.replace(\n",
    "        dt=0.1), [coords_to_state(x) for x in X]))\n",
    "IFrame('temp_trajax.html', width=900, height=500)"
   ]
  },
  {
   "cell_type": "markdown",
   "id": "a3cbf3cd",
   "metadata": {},
   "source": [
    "The fact that the entire `ilqr` routine is written in Jax allows us to write various Jax transformations on top of `ilqr`. This has some pretty neat implications in terms of e.g. parallel simulation and cost parameter optimization. \n",
    "\n",
    "For what follows, we conduct a very simple form of cost parameter optimization via grid-search. In particular, we will seek the set of cost parameters which minimizes the worst-case goal error over several fixed initial conditions $x_0$."
   ]
  },
  {
   "cell_type": "code",
   "execution_count": null,
   "id": "b5860493",
   "metadata": {},
   "outputs": [],
   "source": [
    "x0s = jnp.array([\n",
    "    [0, 0, 0.1, -0.1],\n",
    "    [0, 0, 0.17, 0.1],\n",
    "    [0, 0, 0.0, -0.20]\n",
    "])\n",
    "x0s = jax.vmap(partial(reacher_env.pipeline_init, qd=jnp.zeros((4,))))(x0s)\n",
    "x0s = jax.vmap(state_to_gen_coords)(x0s)"
   ]
  },
  {
   "cell_type": "code",
   "execution_count": null,
   "id": "33053436",
   "metadata": {},
   "outputs": [],
   "source": [
    "def meta_cost(params: ReacherCostParams, x0s: Array, key: PRNGKey) -> float:\n",
    "    U = jax.random.uniform(\n",
    "        key, minval=-0.1, maxval=0.1,\n",
    "        shape=(T, reacher_env.action_size))\n",
    "    Xs, Us, objs, grads, adjoints, lqrs, iters = jax.vmap(\n",
    "        ilqr_solve, in_axes=(0, None, None))(x0s, U, params)\n",
    "    states = jax.vmap(coords_to_state)(Xs[:, -1, :])\n",
    "    obs = jax.vmap(reacher_env._get_obs)(states)\n",
    "    c = jnp.max(jnp.sum(obs[:, 8:10] ** 2, axis=-1))\n",
    "    return c, (Xs, Us, objs, grads, adjoints, lqrs, iters)\n"
   ]
  },
  {
   "cell_type": "code",
   "execution_count": null,
   "id": "b7352a52",
   "metadata": {},
   "outputs": [],
   "source": [
    "vmap_meta_cost = jax.jit(jax.vmap(meta_cost, in_axes=(0, None, None)))\n",
    "\n",
    "def reacher_cost_from_weight(w: float) -> ReacherCostParams:\n",
    "    return ReacherCostParams(term_pos=w)\n",
    "\n",
    "weights = jnp.array([100.0, 500.0, 1000.0])"
   ]
  },
  {
   "cell_type": "code",
   "execution_count": null,
   "id": "edd5d09e",
   "metadata": {},
   "outputs": [
    {
     "name": "stderr",
     "output_type": "stream",
     "text": [
      "2023-06-13 15:10:40.674210: E external/xla/xla/service/slow_operation_alarm.cc:133] The operation took 37m50.883152s\n",
      "\n",
      "********************************\n",
      "[Compiling module jit_meta_cost] Very slow compile? If you want to file a bug, run with envvar XLA_FLAGS=--xla_dump_to=/tmp/foo and attach the results.\n",
      "********************************\n"
     ]
    },
    {
     "name": "stdout",
     "output_type": "stream",
     "text": [
      "vmap_meta_cost, jit_time=2528.169 (s), eval_time=34.151 (s)\n"
     ]
    }
   ],
   "source": [
    "args = (\n",
    "    jax.vmap(reacher_cost_from_weight)(weights),\n",
    "    x0s,\n",
    "    jax.random.PRNGKey(17))\n",
    "print_jit_and_eval_times(\n",
    "    vmap_meta_cost,\n",
    "    args=args,\n",
    "    name='vmap_meta_cost',\n",
    "    num_steps=1\n",
    ")"
   ]
  },
  {
   "cell_type": "code",
   "execution_count": null,
   "id": "cc15e48a",
   "metadata": {},
   "outputs": [],
   "source": [
    "meta_costs, meta_results = vmap_meta_cost(\n",
    "    jax.vmap(reacher_cost_from_weight)(weights),\n",
    "    x0s,\n",
    "    jax.random.PRNGKey(17))"
   ]
  },
  {
   "cell_type": "code",
   "execution_count": null,
   "id": "9a2978df",
   "metadata": {},
   "outputs": [
    {
     "name": "stdout",
     "output_type": "stream",
     "text": [
      "best_idx 1\n"
     ]
    }
   ],
   "source": [
    "best_idx = np.argmin(meta_costs)\n",
    "print(\"best_idx\", best_idx)"
   ]
  },
  {
   "cell_type": "code",
   "execution_count": null,
   "id": "c6e3bda3",
   "metadata": {},
   "outputs": [
    {
     "data": {
      "text/html": [
       "\n",
       "        <iframe\n",
       "            width=\"900\"\n",
       "            height=\"500\"\n",
       "            src=\"temp_meta_cost.html\"\n",
       "            frameborder=\"0\"\n",
       "            allowfullscreen\n",
       "            \n",
       "        ></iframe>\n",
       "        "
      ],
      "text/plain": [
       "<IPython.lib.display.IFrame at 0x7fedc0a44430>"
      ]
     },
     "execution_count": 33,
     "metadata": {},
     "output_type": "execute_result"
    }
   ],
   "source": [
    "x0_idx = 2  # indexes into x0s\n",
    "with open('temp_meta_cost.html', 'w') as fp:\n",
    "    fp.write(html.render(\n",
    "        reacher_env.sys.replace(dt=0.1), \n",
    "        [coords_to_state(x) for x in meta_results[0][best_idx][x0_idx]]))\n",
    "IFrame('temp_meta_cost.html', width=900, height=500)"
   ]
  },
  {
   "cell_type": "markdown",
   "id": "f529e8cb",
   "metadata": {},
   "source": [
    "## Acrobot iLQR sensitivity analysis\n",
    "\n",
    "We now conclude by exploring the autodiff capabilites of `trajax`. In particular, we take advantage of the fact that `trajax` supports autodiff through the solution of iLQR problems.\n",
    "\n",
    "In the following example, we consider a standard [acrobot](http://underactuated.mit.edu/acrobot.html#section1) swingup task. We study which parameters of both the cost and dynamics function has the biggest influence on the amount of optimal control effort ($\\sum_t \\|u_t\\|^2$) needed to swing the acrobot up.\n",
    "\n",
    "We first start by defining acrobot dynamics. We do not use `brax` here for clarity reasons because we want the mapping between parameters and dynamics to be explicit.  "
   ]
  },
  {
   "cell_type": "code",
   "execution_count": null,
   "id": "a2564d89",
   "metadata": {},
   "outputs": [],
   "source": [
    "@struct.dataclass\n",
    "class AcrobotDynamicsParams:\n",
    "    \n",
    "    LINK_MASS_1: float = 1.0\n",
    "    LINK_MASS_2: float = 1.0\n",
    "    LINK_LENGTH_1: float = 1.0\n",
    "    LINK_COM_POS_1: float = 0.5\n",
    "    LINK_COM_POS_2: float = 0.5\n",
    "    LINK_MOI_1: float = 1.0\n",
    "    LINK_MOI_2: float = 1.0\n",
    "\n",
    "\n",
    "def acrobot(\n",
    "    x: Array,\n",
    "    u: Array,\n",
    "    t: Scalar,\n",
    "    params: AcrobotDynamicsParams\n",
    ") -> Array:\n",
    "    \"\"\"Classic Acrobot system.\n",
    "\n",
    "    Note this implementation emulates the OpenAI gym implementation of\n",
    "    Acrobot-v2, which itself is based on Stutton's Reinforcement Learning book.\n",
    "\n",
    "    Args:\n",
    "      x: state, (4, ) array\n",
    "      u: control, (1, ) array\n",
    "      t: scalar time. Disregarded because system is time-invariant.\n",
    "      params: tuple of (LINK_MASS_1, LINK_MASS_2, LINK_LENGTH_1, LINK_COM_POS_1,\n",
    "        LINK_COM_POS_2 LINK_MOI_1, LINK_MOI_2)\n",
    "\n",
    "    Returns:\n",
    "      xdot: state time derivative, (4, )\n",
    "    \"\"\"\n",
    "    del t  # Unused\n",
    "\n",
    "    m1, m2, l1, lc1, lc2, I1, I2 = jax.flatten_util.ravel_pytree(params)[0]\n",
    "    g = 9.8\n",
    "    a = u[0]\n",
    "    theta1 = x[0]\n",
    "    theta2 = x[1]\n",
    "    dtheta1 = x[2]\n",
    "    dtheta2 = x[3]\n",
    "    d1 = (\n",
    "        m1 * lc1**2 + m2 * (l1**2 + lc2**2 + 2 * l1 * lc2 * jnp.cos(theta2)) + I1 +\n",
    "        I2)\n",
    "    d2 = m2 * (lc2**2 + l1 * lc2 * jnp.cos(theta2)) + I2\n",
    "    phi2 = m2 * lc2 * g * jnp.cos(theta1 + theta2 - jnp.pi / 2.)\n",
    "    phi1 = (-m2 * l1 * lc2 * dtheta2**2 * jnp.sin(theta2) -\n",
    "            2 * m2 * l1 * lc2 * dtheta2 * dtheta1 * jnp.sin(theta2) +\n",
    "            (m1 * lc1 + m2 * l1) * g * jnp.cos(theta1 - jnp.pi / 2) + phi2)\n",
    "    ddtheta2 = ((a + d2 / d1 * phi1 -\n",
    "                 m2 * l1 * lc2 * dtheta1**2 * jnp.sin(theta2) - phi2) /\n",
    "                (m2 * lc2**2 + I2 - d2**2 / d1))\n",
    "    ddtheta1 = -(d2 * ddtheta2 + phi1) / d1\n",
    "    return jnp.array([dtheta1, dtheta2, ddtheta1, ddtheta2])\n"
   ]
  },
  {
   "cell_type": "markdown",
   "id": "e7abe4e7",
   "metadata": {},
   "source": [
    "We now define a cost function, which penalizes deviations of the acrobot from the upright position."
   ]
  },
  {
   "cell_type": "code",
   "execution_count": null,
   "id": "ef364ec8",
   "metadata": {},
   "outputs": [],
   "source": [
    "T = 50\n",
    "goal = jnp.array([jnp.pi, 0.0, 0.0, 0.0])\n",
    "\n",
    "\n",
    "@struct.dataclass\n",
    "class AcrobotCostParams:\n",
    "    stage_cost_x: float = 0.1\n",
    "    stage_cost_u: float = 0.01\n",
    "    term_cost_x: float = 1000.0\n",
    "\n",
    "\n",
    "def acrobot_cost(\n",
    "    x: Array,\n",
    "    u: Array,\n",
    "    t: Scalar,\n",
    "    params: AcrobotCostParams\n",
    ") -> float:\n",
    "    delta = x - goal\n",
    "    terminal_cost = 0.5 * params.term_cost_x * jnp.dot(delta, delta)\n",
    "    stage_cost = 0.5 * params.stage_cost_x * jnp.dot(\n",
    "        delta, delta) + 0.5 * params.stage_cost_u * jnp.dot(u, u)\n",
    "    return jnp.where(t == T, terminal_cost, stage_cost)\n"
   ]
  },
  {
   "cell_type": "markdown",
   "id": "88c5ba84",
   "metadata": {},
   "source": [
    "The following `acrobot_control_effort` function takes in `dynamics_params` and `cost_params`, solves the resulting `ilqr` problem after applying a \n",
    "[forward Euler](https://en.wikipedia.org/wiki/Euler_method) discretization\n",
    "to the continuous acrobot dynamics to turn it into a discrete problem, and then returns\n",
    "the optimal control effort $\\sum_t \\|u_t\\|^2$."
   ]
  },
  {
   "cell_type": "code",
   "execution_count": null,
   "id": "568377aa",
   "metadata": {},
   "outputs": [],
   "source": [
    "def acrobot_control_effort(\n",
    "    dynamics_params: AcrobotDynamicsParams, \n",
    "    cost_params: AcrobotCostParams\n",
    ") -> float:\n",
    "    dynamics = euler(\n",
    "        partial(acrobot, params=dynamics_params), dt=0.1)\n",
    "    x0 = jnp.zeros(4)\n",
    "    U = jnp.zeros((T, 1))\n",
    "    _, U, *_ = ilqr(\n",
    "        partial(acrobot_cost, params=cost_params),\n",
    "        dynamics, x0, U,\n",
    "        maxiter=100, make_psd=False, vjp_method='explicit')\n",
    "    return jnp.sum(U ** 2)\n"
   ]
  },
  {
   "cell_type": "code",
   "execution_count": null,
   "id": "dba18004",
   "metadata": {},
   "outputs": [],
   "source": [
    "# This helper class allows us to pretty print dataclasses\n",
    "# Taken from:\n",
    "# https://stackoverflow.com/questions/44356693/pprint-with-custom-float-formats\n",
    "class FormatPrinter(pprint.PrettyPrinter):\n",
    "\n",
    "    def __init__(self, formats):\n",
    "        super(FormatPrinter, self).__init__()\n",
    "        self.formats = formats\n",
    "\n",
    "    def format(self, obj, ctx, maxlvl, lvl):\n",
    "        if type(obj) in self.formats:\n",
    "            return self.formats[type(obj)] % obj, 1, 0\n",
    "        return pprint.PrettyPrinter.format(self, obj, ctx, maxlvl, lvl)\n",
    "printer = FormatPrinter({float: '%.3f'})\n"
   ]
  },
  {
   "cell_type": "markdown",
   "id": "57fde839",
   "metadata": {},
   "source": [
    "We can now answer our question of which parameters have the most effect on the optimal control effort, by taking a gradient of the `acrobot_control_effort` function, w.r.t. both the `dynamics_params` and the `cost_params`. For the `cost_params`, the answer is perhaps obvious; it should be the `stage_cost_u` parameter which penalizes control effort. However, for the dynamics parameters, it is not a-priori obvious what the answer should be."
   ]
  },
  {
   "cell_type": "code",
   "execution_count": null,
   "id": "a4c8af2c",
   "metadata": {},
   "outputs": [
    {
     "name": "stdout",
     "output_type": "stream",
     "text": [
      "AcrobotDynamicsParams(LINK_MASS_1=-29.268,\n",
      "                      LINK_MASS_2=474.308,\n",
      "                      LINK_LENGTH_1=255.828,\n",
      "                      LINK_COM_POS_1=10.875,\n",
      "                      LINK_COM_POS_2=1023.828,\n",
      "                      LINK_MOI_1=138.820,\n",
      "                      LINK_MOI_2=193.923)\n"
     ]
    }
   ],
   "source": [
    "dynamics_params = AcrobotDynamicsParams()\n",
    "cost_params = AcrobotCostParams()\n",
    "dynamics_grad = jax.grad(acrobot_control_effort, argnums=0)(\n",
    "    dynamics_params, cost_params)\n",
    "printer.pprint(jax.tree_util.tree_map(float, dynamics_grad))\n"
   ]
  },
  {
   "cell_type": "markdown",
   "id": "97c33cd0",
   "metadata": {},
   "source": [
    "Here, we see that the `LINK_COM_POS_2` parameter has the most influence. Turning to the cost parameters, we see that our intuition is indeed correct."
   ]
  },
  {
   "cell_type": "code",
   "execution_count": null,
   "id": "59719dad",
   "metadata": {},
   "outputs": [
    {
     "name": "stdout",
     "output_type": "stream",
     "text": [
      "AcrobotCostParams(stage_cost_x=1327.923,\n",
      "                  stage_cost_u=-14581.820,\n",
      "                  term_cost_x=0.013)\n"
     ]
    }
   ],
   "source": [
    "cost_grad = jax.grad(acrobot_control_effort, argnums=1)(\n",
    "    dynamics_params, cost_params)\n",
    "printer.pprint(jax.tree_util.tree_map(float, cost_grad))\n"
   ]
  },
  {
   "cell_type": "code",
   "execution_count": null,
   "id": "6cefccbf",
   "metadata": {},
   "outputs": [],
   "source": []
  }
 ],
 "metadata": {
  "kernelspec": {
   "display_name": "Python 3",
   "language": "python",
   "name": "python3"
  },
  "language_info": {
   "codemirror_mode": {
    "name": "ipython",
    "version": 3
   },
   "file_extension": ".py",
   "mimetype": "text/x-python",
   "name": "python",
   "nbconvert_exporter": "python",
   "pygments_lexer": "ipython3",
   "version": "3.10.12"
  }
 },
 "nbformat": 4,
 "nbformat_minor": 5
}
